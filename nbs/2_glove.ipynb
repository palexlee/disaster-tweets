{
 "cells": [
  {
   "cell_type": "code",
   "execution_count": 47,
   "metadata": {},
   "outputs": [
    {
     "name": "stdout",
     "output_type": "stream",
     "text": [
      "The autoreload extension is already loaded. To reload it, use:\n",
      "  %reload_ext autoreload\n"
     ]
    }
   ],
   "source": [
    "import pandas as pd\n",
    "import numpy as np\n",
    "import tensorflow as tf\n",
    "import matplotlib.pyplot as plt \n",
    "\n",
    "from sklearn.model_selection import train_test_split\n",
    "\n",
    "from keras.preprocessing.text import Tokenizer\n",
    "from keras.preprocessing.sequence import pad_sequences\n",
    "from keras.models import Sequential\n",
    "from keras.layers import Embedding,LSTM,Dense,SpatialDropout1D\n",
    "from keras.initializers import Constant\n",
    "from tensorflow.keras.optimizers import Adam\n",
    "\n",
    "import sys\n",
    "sys.path.insert(1, '../src')\n",
    "\n",
    "SEED=42\n",
    "\n",
    "%load_ext autoreload\n",
    "%autoreload 2"
   ]
  },
  {
   "cell_type": "code",
   "execution_count": 2,
   "metadata": {},
   "outputs": [],
   "source": [
    "def load_glove(glove_path):\n",
    "    \"\"\"Read GloVe embeddings from input path and return as a dict\n",
    "\n",
    "    Args:\n",
    "        glove_path (str): path to file containing glove\n",
    "\n",
    "    Returns:\n",
    "        embedding_dict (dict): Dict containing word, embedding pairs\n",
    "    \"\"\"\n",
    "    embedding_dict={}\n",
    "    with open(glove_path,'r', encoding='utf-8') as f:\n",
    "        for line in f:\n",
    "            values=line.split()\n",
    "            word=values[0]\n",
    "            vectors=np.asarray(values[1:],'float32')\n",
    "            embedding_dict[word]=vectors\n",
    "    f.close()\n",
    "    return embedding_dict"
   ]
  },
  {
   "cell_type": "code",
   "execution_count": 3,
   "metadata": {},
   "outputs": [],
   "source": [
    "df_train = pd.read_csv('../data/train_preprocessed.csv')\n",
    "df_test = pd.read_csv('../data/test_preprocessed.csv')\n",
    "df_train['text'].fillna('', inplace=True)\n",
    "df_test['text'].fillna('', inplace=True)"
   ]
  },
  {
   "cell_type": "code",
   "execution_count": 34,
   "metadata": {},
   "outputs": [],
   "source": [
    "glove_embedding = load_glove(r'D:\\Documents\\Projects\\dataset\\glove_twitter\\glove.twitter.27B.50d.txt')"
   ]
  },
  {
   "cell_type": "code",
   "execution_count": 35,
   "metadata": {},
   "outputs": [
    {
     "data": {
      "text/plain": [
       "1193514"
      ]
     },
     "execution_count": 35,
     "metadata": {},
     "output_type": "execute_result"
    }
   ],
   "source": [
    "len(glove_embedding)"
   ]
  },
  {
   "cell_type": "code",
   "execution_count": 6,
   "metadata": {},
   "outputs": [
    {
     "data": {
      "text/plain": [
       "[PhysicalDevice(name='/physical_device:GPU:0', device_type='GPU')]"
      ]
     },
     "execution_count": 6,
     "metadata": {},
     "output_type": "execute_result"
    }
   ],
   "source": [
    "gpus = tf.config.list_physical_devices('GPU')\n",
    "gpus"
   ]
  },
  {
   "cell_type": "code",
   "execution_count": 29,
   "metadata": {},
   "outputs": [
    {
     "name": "stdout",
     "output_type": "stream",
     "text": [
      "Number of words in vocabulary 19964\n"
     ]
    }
   ],
   "source": [
    "df_all = pd.concat([df_train, df_test], axis=0)\n",
    "tokenizer = Tokenizer()\n",
    "tokenizer.fit_on_texts(df_all['text'])\n",
    "\n",
    "print('Number of words in vocabulary {}'.format(len(tokenizer.word_index)))"
   ]
  },
  {
   "cell_type": "code",
   "execution_count": 30,
   "metadata": {},
   "outputs": [],
   "source": [
    "train_sequences = tokenizer.texts_to_sequences(df_train['text'])\n",
    "test_sequences = tokenizer.texts_to_sequences(df_test['text'])"
   ]
  },
  {
   "cell_type": "code",
   "execution_count": 31,
   "metadata": {},
   "outputs": [
    {
     "name": "stdout",
     "output_type": "stream",
     "text": [
      "Maximum number of tokens in the data 23\n"
     ]
    }
   ],
   "source": [
    "MAX_LEN = max(list(map(lambda x: len(x), train_sequences)))\n",
    "print('Maximum number of tokens in the data {}'.format(MAX_LEN))"
   ]
  },
  {
   "cell_type": "code",
   "execution_count": 32,
   "metadata": {},
   "outputs": [],
   "source": [
    "train_sequences_padded = pad_sequences(train_sequences, maxlen=MAX_LEN, padding='post', truncating='post')\n",
    "test_sequences_padded = pad_sequences(test_sequences, maxlen=MAX_LEN, padding='post', truncating='post')"
   ]
  },
  {
   "cell_type": "code",
   "execution_count": 36,
   "metadata": {},
   "outputs": [
    {
     "name": "stdout",
     "output_type": "stream",
     "text": [
      "Missed 5471 words\n"
     ]
    }
   ],
   "source": [
    "# create initial embedding matrix\n",
    "num_words = len(tokenizer.word_index) + 1\n",
    "embedding_matrix = np.zeros((num_words, 50))\n",
    "missed = []\n",
    "\n",
    "for word, i in tokenizer.word_index.items():\n",
    "    embedding = glove_embedding.get(word)\n",
    "    if embedding is not None:\n",
    "        embedding_matrix[i] = embedding\n",
    "    else:\n",
    "        missed.append(word)\n",
    "\n",
    "print('Missed {} words'.format(len(missed)))"
   ]
  },
  {
   "cell_type": "code",
   "execution_count": 37,
   "metadata": {},
   "outputs": [
    {
     "name": "stdout",
     "output_type": "stream",
     "text": [
      "WARNING:tensorflow:Layer lstm_1 will not use cuDNN kernels since it doesn't meet the criteria. It will use a generic GPU kernel as fallback when running on GPU.\n"
     ]
    }
   ],
   "source": [
    "model=Sequential()\n",
    "\n",
    "embedding=Embedding(num_words,50,embeddings_initializer=Constant(embedding_matrix),\n",
    "                   input_length=MAX_LEN,trainable=False)\n",
    "\n",
    "model.add(embedding)\n",
    "model.add(SpatialDropout1D(0.2))\n",
    "model.add(LSTM(64, dropout=0.2, recurrent_dropout=0.2))\n",
    "model.add(Dense(1, activation='sigmoid'))\n",
    "\n",
    "\n",
    "optimzer=Adam(learning_rate=1e-5)\n",
    "\n",
    "model.compile(loss='binary_crossentropy',optimizer=optimzer,metrics=['accuracy'])\n",
    "\n"
   ]
  },
  {
   "cell_type": "code",
   "execution_count": 38,
   "metadata": {},
   "outputs": [
    {
     "name": "stdout",
     "output_type": "stream",
     "text": [
      "Model: \"sequential_1\"\n",
      "_________________________________________________________________\n",
      " Layer (type)                Output Shape              Param #   \n",
      "=================================================================\n",
      " embedding_1 (Embedding)     (None, 23, 50)            998250    \n",
      "                                                                 \n",
      " spatial_dropout1d_1 (Spatia  (None, 23, 50)           0         \n",
      " lDropout1D)                                                     \n",
      "                                                                 \n",
      " lstm_1 (LSTM)               (None, 64)                29440     \n",
      "                                                                 \n",
      " dense_1 (Dense)             (None, 1)                 65        \n",
      "                                                                 \n",
      "=================================================================\n",
      "Total params: 1,027,755\n",
      "Trainable params: 29,505\n",
      "Non-trainable params: 998,250\n",
      "_________________________________________________________________\n"
     ]
    }
   ],
   "source": [
    "model.summary()"
   ]
  },
  {
   "cell_type": "code",
   "execution_count": 39,
   "metadata": {},
   "outputs": [
    {
     "data": {
      "text/html": [
       "<div>\n",
       "<style scoped>\n",
       "    .dataframe tbody tr th:only-of-type {\n",
       "        vertical-align: middle;\n",
       "    }\n",
       "\n",
       "    .dataframe tbody tr th {\n",
       "        vertical-align: top;\n",
       "    }\n",
       "\n",
       "    .dataframe thead th {\n",
       "        text-align: right;\n",
       "    }\n",
       "</style>\n",
       "<table border=\"1\" class=\"dataframe\">\n",
       "  <thead>\n",
       "    <tr style=\"text-align: right;\">\n",
       "      <th></th>\n",
       "      <th>id</th>\n",
       "      <th>keyword</th>\n",
       "      <th>location</th>\n",
       "      <th>text</th>\n",
       "      <th>target</th>\n",
       "      <th>word_count</th>\n",
       "      <th>unique_word_count</th>\n",
       "      <th>mean_word_length</th>\n",
       "      <th>char_count</th>\n",
       "      <th>punctuation_count</th>\n",
       "    </tr>\n",
       "  </thead>\n",
       "  <tbody>\n",
       "    <tr>\n",
       "      <th>0</th>\n",
       "      <td>1</td>\n",
       "      <td>NaN</td>\n",
       "      <td>NaN</td>\n",
       "      <td>deeds reason earthquake may allah forgive us</td>\n",
       "      <td>1</td>\n",
       "      <td>13</td>\n",
       "      <td>13</td>\n",
       "      <td>4.384615</td>\n",
       "      <td>69</td>\n",
       "      <td>1</td>\n",
       "    </tr>\n",
       "    <tr>\n",
       "      <th>1</th>\n",
       "      <td>4</td>\n",
       "      <td>NaN</td>\n",
       "      <td>NaN</td>\n",
       "      <td>forest fire near la ronge sask canada</td>\n",
       "      <td>1</td>\n",
       "      <td>7</td>\n",
       "      <td>7</td>\n",
       "      <td>4.571429</td>\n",
       "      <td>38</td>\n",
       "      <td>1</td>\n",
       "    </tr>\n",
       "    <tr>\n",
       "      <th>2</th>\n",
       "      <td>5</td>\n",
       "      <td>NaN</td>\n",
       "      <td>NaN</td>\n",
       "      <td>residents asked place notified officers evacua...</td>\n",
       "      <td>1</td>\n",
       "      <td>22</td>\n",
       "      <td>20</td>\n",
       "      <td>5.090909</td>\n",
       "      <td>133</td>\n",
       "      <td>3</td>\n",
       "    </tr>\n",
       "    <tr>\n",
       "      <th>3</th>\n",
       "      <td>6</td>\n",
       "      <td>NaN</td>\n",
       "      <td>NaN</td>\n",
       "      <td>people receive wildfires evacuation orders cal...</td>\n",
       "      <td>1</td>\n",
       "      <td>9</td>\n",
       "      <td>9</td>\n",
       "      <td>6.333333</td>\n",
       "      <td>65</td>\n",
       "      <td>2</td>\n",
       "    </tr>\n",
       "    <tr>\n",
       "      <th>4</th>\n",
       "      <td>7</td>\n",
       "      <td>NaN</td>\n",
       "      <td>NaN</td>\n",
       "      <td>got sent photo ruby alaska smoke wildfires pou...</td>\n",
       "      <td>1</td>\n",
       "      <td>17</td>\n",
       "      <td>16</td>\n",
       "      <td>4.235294</td>\n",
       "      <td>88</td>\n",
       "      <td>2</td>\n",
       "    </tr>\n",
       "  </tbody>\n",
       "</table>\n",
       "</div>"
      ],
      "text/plain": [
       "   id keyword location                                               text  \\\n",
       "0   1     NaN      NaN       deeds reason earthquake may allah forgive us   \n",
       "1   4     NaN      NaN              forest fire near la ronge sask canada   \n",
       "2   5     NaN      NaN  residents asked place notified officers evacua...   \n",
       "3   6     NaN      NaN  people receive wildfires evacuation orders cal...   \n",
       "4   7     NaN      NaN  got sent photo ruby alaska smoke wildfires pou...   \n",
       "\n",
       "   target  word_count  unique_word_count  mean_word_length  char_count  \\\n",
       "0       1          13                 13          4.384615          69   \n",
       "1       1           7                  7          4.571429          38   \n",
       "2       1          22                 20          5.090909         133   \n",
       "3       1           9                  9          6.333333          65   \n",
       "4       1          17                 16          4.235294          88   \n",
       "\n",
       "   punctuation_count  \n",
       "0                  1  \n",
       "1                  1  \n",
       "2                  3  \n",
       "3                  2  \n",
       "4                  2  "
      ]
     },
     "execution_count": 39,
     "metadata": {},
     "output_type": "execute_result"
    }
   ],
   "source": [
    "df_train.head()"
   ]
  },
  {
   "cell_type": "code",
   "execution_count": 42,
   "metadata": {},
   "outputs": [
    {
     "name": "stdout",
     "output_type": "stream",
     "text": [
      "Shape of train (6419, 23)\n",
      "Shape of Validation  (1133, 23)\n"
     ]
    }
   ],
   "source": [
    "X_train, X_val, y_train, y_val = train_test_split(train_sequences_padded, df_train['target'], test_size=0.15, shuffle=True, stratify=df_train['target'])\n",
    "\n",
    "print('Shape of train',X_train.shape)\n",
    "print(\"Shape of Validation \",X_val.shape)"
   ]
  },
  {
   "cell_type": "code",
   "execution_count": 43,
   "metadata": {},
   "outputs": [
    {
     "name": "stdout",
     "output_type": "stream",
     "text": [
      "Epoch 1/12\n",
      "803/803 - 95s - loss: 0.6862 - accuracy: 0.5864 - val_loss: 0.6778 - val_accuracy: 0.5825 - 95s/epoch - 119ms/step\n",
      "Epoch 2/12\n",
      "803/803 - 182s - loss: 0.6687 - accuracy: 0.6270 - val_loss: 0.6334 - val_accuracy: 0.7026 - 182s/epoch - 227ms/step\n",
      "Epoch 3/12\n",
      "803/803 - 162s - loss: 0.6070 - accuracy: 0.7169 - val_loss: 0.5200 - val_accuracy: 0.7926 - 162s/epoch - 202ms/step\n",
      "Epoch 4/12\n",
      "803/803 - 179s - loss: 0.5439 - accuracy: 0.7453 - val_loss: 0.4721 - val_accuracy: 0.8005 - 179s/epoch - 223ms/step\n",
      "Epoch 5/12\n",
      "803/803 - 123s - loss: 0.5201 - accuracy: 0.7576 - val_loss: 0.4561 - val_accuracy: 0.8041 - 123s/epoch - 153ms/step\n",
      "Epoch 6/12\n",
      "803/803 - 117s - loss: 0.5106 - accuracy: 0.7606 - val_loss: 0.4455 - val_accuracy: 0.8129 - 117s/epoch - 146ms/step\n",
      "Epoch 7/12\n",
      "803/803 - 117s - loss: 0.5018 - accuracy: 0.7649 - val_loss: 0.4375 - val_accuracy: 0.8226 - 117s/epoch - 146ms/step\n",
      "Epoch 8/12\n",
      "803/803 - 524s - loss: 0.4963 - accuracy: 0.7727 - val_loss: 0.4317 - val_accuracy: 0.8173 - 524s/epoch - 652ms/step\n",
      "Epoch 9/12\n",
      "803/803 - 156s - loss: 0.4923 - accuracy: 0.7711 - val_loss: 0.4278 - val_accuracy: 0.8235 - 156s/epoch - 194ms/step\n",
      "Epoch 10/12\n",
      "803/803 - 137s - loss: 0.4939 - accuracy: 0.7726 - val_loss: 0.4251 - val_accuracy: 0.8208 - 137s/epoch - 170ms/step\n",
      "Epoch 11/12\n",
      "803/803 - 120s - loss: 0.4870 - accuracy: 0.7780 - val_loss: 0.4221 - val_accuracy: 0.8199 - 120s/epoch - 150ms/step\n",
      "Epoch 12/12\n",
      "803/803 - 117s - loss: 0.4857 - accuracy: 0.7730 - val_loss: 0.4201 - val_accuracy: 0.8208 - 117s/epoch - 145ms/step\n"
     ]
    }
   ],
   "source": [
    "history=model.fit(X_train,y_train,batch_size=8,epochs=12,validation_data=(X_val,y_val),verbose=2)"
   ]
  },
  {
   "cell_type": "code",
   "execution_count": 50,
   "metadata": {},
   "outputs": [
    {
     "data": {
      "image/png": "[encoded data removed]",
      "text/plain": [
       "<Figure size 432x288 with 1 Axes>"
      ]
     },
     "metadata": {
      "needs_background": "light"
     },
     "output_type": "display_data"
    }
   ],
   "source": [
    "plt.plot(history.history['loss'])\n",
    "plt.plot(history.history['val_loss'])\n",
    "plt.title('model loss')\n",
    "plt.ylabel('loss')\n",
    "plt.xlabel('epoch')\n",
    "plt.legend(['train', 'val'], loc='upper left')\n",
    "plt.show()"
   ]
  },
  {
   "cell_type": "code",
   "execution_count": 49,
   "metadata": {},
   "outputs": [
    {
     "data": {
      "image/png": "[encoded data removed]",
      "text/plain": [
       "<Figure size 432x288 with 1 Axes>"
      ]
     },
     "metadata": {
      "needs_background": "light"
     },
     "output_type": "display_data"
    }
   ],
   "source": [
    "plt.plot(history.history['accuracy'])\n",
    "plt.plot(history.history['val_accuracy'])\n",
    "plt.title('model accuracy')\n",
    "plt.ylabel('accuracy')\n",
    "plt.xlabel('epoch')\n",
    "plt.legend(['train', 'val'], loc='upper left')\n",
    "plt.show()"
   ]
  },
  {
   "cell_type": "code",
   "execution_count": 44,
   "metadata": {},
   "outputs": [],
   "source": [
    "sample_submission = pd.read_csv('../reports/sample_submission.csv')\n",
    "sample_submission['target'] = model.predict(test_sequences_padded)\n",
    "sample_submission['target'] = sample_submission['target'].round().astype(int)\n",
    "sample_submission.to_csv('../reports/glove_submission_v2.csv', index=False)"
   ]
  },
  {
   "cell_type": "code",
   "execution_count": null,
   "metadata": {},
   "outputs": [],
   "source": []
  }
 ],
 "metadata": {
  "interpreter": {
   "hash": "3f754e0f2c035ece9b0a4f998d8077dc946278dc35515802da1198acd4f82ede"
  },
  "kernelspec": {
   "display_name": "Python 3.9.7 ('base')",
   "language": "python",
   "name": "python3"
  },
  "language_info": {
   "codemirror_mode": {
    "name": "ipython",
    "version": 3
   },
   "file_extension": ".py",
   "mimetype": "text/x-python",
   "name": "python",
   "nbconvert_exporter": "python",
   "pygments_lexer": "ipython3",
   "version": "3.9.7"
  },
  "orig_nbformat": 4
 },
 "nbformat": 4,
 "nbformat_minor": 2
}
