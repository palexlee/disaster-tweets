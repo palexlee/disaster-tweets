{
 "cells": [
  {
   "cell_type": "code",
   "execution_count": 34,
   "metadata": {},
   "outputs": [
    {
     "data": {
      "text/plain": [
       "DataTransformerRegistry.enable('default')"
      ]
     },
     "execution_count": 34,
     "metadata": {},
     "output_type": "execute_result"
    }
   ],
   "source": [
    "import pandas as pd\n",
    "import numpy as np\n",
    "import altair as alt\n",
    "from altair import Chart\n",
    "alt.data_transformers.disable_max_rows()"
   ]
  },
  {
   "cell_type": "code",
   "execution_count": 4,
   "metadata": {},
   "outputs": [
    {
     "name": "stdout",
     "output_type": "stream",
     "text": [
      "Training set shape (7613, 5)\n",
      "Test set shape (3263, 4)\n"
     ]
    }
   ],
   "source": [
    "df_train = pd.read_csv('../data/train.csv', dtype={'id': np.int16, 'target': np.int8})\n",
    "df_test = pd.read_csv('../data/test.csv', dtype={'id': np.int16})\n",
    "\n",
    "print('Training set shape {}'.format(df_train.shape))\n",
    "print('Test set shape {}'.format(df_test.shape))"
   ]
  },
  {
   "cell_type": "code",
   "execution_count": 16,
   "metadata": {},
   "outputs": [
    {
     "data": {
      "text/html": [
       "<div>\n",
       "<style scoped>\n",
       "    .dataframe tbody tr th:only-of-type {\n",
       "        vertical-align: middle;\n",
       "    }\n",
       "\n",
       "    .dataframe tbody tr th {\n",
       "        vertical-align: top;\n",
       "    }\n",
       "\n",
       "    .dataframe thead th {\n",
       "        text-align: right;\n",
       "    }\n",
       "</style>\n",
       "<table border=\"1\" class=\"dataframe\">\n",
       "  <thead>\n",
       "    <tr style=\"text-align: right;\">\n",
       "      <th></th>\n",
       "      <th>null_count</th>\n",
       "    </tr>\n",
       "  </thead>\n",
       "  <tbody>\n",
       "    <tr>\n",
       "      <th>id</th>\n",
       "      <td>0</td>\n",
       "    </tr>\n",
       "    <tr>\n",
       "      <th>keyword</th>\n",
       "      <td>26</td>\n",
       "    </tr>\n",
       "    <tr>\n",
       "      <th>location</th>\n",
       "      <td>1105</td>\n",
       "    </tr>\n",
       "    <tr>\n",
       "      <th>text</th>\n",
       "      <td>0</td>\n",
       "    </tr>\n",
       "  </tbody>\n",
       "</table>\n",
       "</div>"
      ],
      "text/plain": [
       "          null_count\n",
       "id                 0\n",
       "keyword           26\n",
       "location        1105\n",
       "text               0"
      ]
     },
     "execution_count": 16,
     "metadata": {},
     "output_type": "execute_result"
    }
   ],
   "source": [
    "df_test.isna().sum().to_frame('null_count')"
   ]
  },
  {
   "cell_type": "code",
   "execution_count": 26,
   "metadata": {},
   "outputs": [
    {
     "data": {
      "text/html": [
       "\n",
       "<div id=\"altair-viz-1e29a91796cc4ffba4bb9ff43084ae2d\"></div>\n",
       "<script type=\"text/javascript\">\n",
       "  var VEGA_DEBUG = (typeof VEGA_DEBUG == \"undefined\") ? {} : VEGA_DEBUG;\n",
       "  (function(spec, embedOpt){\n",
       "    let outputDiv = document.currentScript.previousElementSibling;\n",
       "    if (outputDiv.id !== \"altair-viz-1e29a91796cc4ffba4bb9ff43084ae2d\") {\n",
       "      outputDiv = document.getElementById(\"altair-viz-1e29a91796cc4ffba4bb9ff43084ae2d\");\n",
       "    }\n",
       "    const paths = {\n",
       "      \"vega\": \"https://cdn.jsdelivr.net/npm//vega@5?noext\",\n",
       "      \"vega-lib\": \"https://cdn.jsdelivr.net/npm//vega-lib?noext\",\n",
       "      \"vega-lite\": \"https://cdn.jsdelivr.net/npm//vega-lite@4.17.0?noext\",\n",
       "      \"vega-embed\": \"https://cdn.jsdelivr.net/npm//vega-embed@6?noext\",\n",
       "    };\n",
       "\n",
       "    function maybeLoadScript(lib, version) {\n",
       "      var key = `${lib.replace(\"-\", \"\")}_version`;\n",
       "      return (VEGA_DEBUG[key] == version) ?\n",
       "        Promise.resolve(paths[lib]) :\n",
       "        new Promise(function(resolve, reject) {\n",
       "          var s = document.createElement('script');\n",
       "          document.getElementsByTagName(\"head\")[0].appendChild(s);\n",
       "          s.async = true;\n",
       "          s.onload = () => {\n",
       "            VEGA_DEBUG[key] = version;\n",
       "            return resolve(paths[lib]);\n",
       "          };\n",
       "          s.onerror = () => reject(`Error loading script: ${paths[lib]}`);\n",
       "          s.src = paths[lib];\n",
       "        });\n",
       "    }\n",
       "\n",
       "    function showError(err) {\n",
       "      outputDiv.innerHTML = `<div class=\"error\" style=\"color:red;\">${err}</div>`;\n",
       "      throw err;\n",
       "    }\n",
       "\n",
       "    function displayChart(vegaEmbed) {\n",
       "      vegaEmbed(outputDiv, spec, embedOpt)\n",
       "        .catch(err => showError(`Javascript Error: ${err.message}<br>This usually means there's a typo in your chart specification. See the javascript console for the full traceback.`));\n",
       "    }\n",
       "\n",
       "    if(typeof define === \"function\" && define.amd) {\n",
       "      requirejs.config({paths});\n",
       "      require([\"vega-embed\"], displayChart, err => showError(`Error loading script: ${err.message}`));\n",
       "    } else {\n",
       "      maybeLoadScript(\"vega\", \"5\")\n",
       "        .then(() => maybeLoadScript(\"vega-lite\", \"4.17.0\"))\n",
       "        .then(() => maybeLoadScript(\"vega-embed\", \"6\"))\n",
       "        .catch(showError)\n",
       "        .then(() => displayChart(vegaEmbed));\n",
       "    }\n",
       "  })({\"config\": {\"view\": {\"continuousWidth\": 400, \"continuousHeight\": 300}}, \"hconcat\": [{\"data\": {\"name\": \"data-9cab86d7c884760ca877de0b32f6e58d\"}, \"mark\": \"bar\", \"encoding\": {\"x\": {\"field\": \"null_count\", \"type\": \"quantitative\"}, \"y\": {\"field\": \"index\", \"type\": \"nominal\"}}, \"title\": \"Training test\"}, {\"data\": {\"name\": \"data-68a7ddc1d3d976342229e6707282b428\"}, \"mark\": \"bar\", \"encoding\": {\"x\": {\"field\": \"null_count\", \"type\": \"quantitative\"}, \"y\": {\"field\": \"index\", \"type\": \"nominal\"}}, \"title\": \"Test test\"}], \"$schema\": \"https://vega.github.io/schema/vega-lite/v4.17.0.json\", \"datasets\": {\"data-9cab86d7c884760ca877de0b32f6e58d\": [{\"index\": \"id\", \"null_count\": 0}, {\"index\": \"keyword\", \"null_count\": 61}, {\"index\": \"location\", \"null_count\": 2533}, {\"index\": \"text\", \"null_count\": 0}, {\"index\": \"target\", \"null_count\": 0}], \"data-68a7ddc1d3d976342229e6707282b428\": [{\"index\": \"id\", \"null_count\": 0}, {\"index\": \"keyword\", \"null_count\": 26}, {\"index\": \"location\", \"null_count\": 1105}, {\"index\": \"text\", \"null_count\": 0}]}}, {\"mode\": \"vega-lite\"});\n",
       "</script>"
      ],
      "text/plain": [
       "alt.HConcatChart(...)"
      ]
     },
     "execution_count": 26,
     "metadata": {},
     "output_type": "execute_result"
    }
   ],
   "source": [
    "na_train = Chart(df_train.isna().sum().to_frame('null_count').reset_index()).mark_bar().encode(\n",
    "    x='null_count',\n",
    "    y='index'\n",
    ").properties(\n",
    "    title='Training test'\n",
    ")\n",
    "\n",
    "na_test = Chart(df_test.isna().sum().to_frame('null_count').reset_index()).mark_bar().encode(\n",
    "    x='null_count',\n",
    "    y='index'\n",
    ").properties(\n",
    "    title='Test test'\n",
    ")\n",
    "\n",
    "na_train | na_test"
   ]
  },
  {
   "cell_type": "code",
   "execution_count": 79,
   "metadata": {},
   "outputs": [
    {
     "data": {
      "text/html": [
       "<div>\n",
       "<style scoped>\n",
       "    .dataframe tbody tr th:only-of-type {\n",
       "        vertical-align: middle;\n",
       "    }\n",
       "\n",
       "    .dataframe tbody tr th {\n",
       "        vertical-align: top;\n",
       "    }\n",
       "\n",
       "    .dataframe thead th {\n",
       "        text-align: right;\n",
       "    }\n",
       "</style>\n",
       "<table border=\"1\" class=\"dataframe\">\n",
       "  <thead>\n",
       "    <tr style=\"text-align: right;\">\n",
       "      <th></th>\n",
       "      <th>keyword</th>\n",
       "      <th>target</th>\n",
       "      <th>count</th>\n",
       "      <th>sum</th>\n",
       "    </tr>\n",
       "  </thead>\n",
       "  <tbody>\n",
       "    <tr>\n",
       "      <th>0</th>\n",
       "      <td>ablaze</td>\n",
       "      <td>0</td>\n",
       "      <td>23</td>\n",
       "      <td>0</td>\n",
       "    </tr>\n",
       "    <tr>\n",
       "      <th>1</th>\n",
       "      <td>ablaze</td>\n",
       "      <td>1</td>\n",
       "      <td>13</td>\n",
       "      <td>13</td>\n",
       "    </tr>\n",
       "    <tr>\n",
       "      <th>2</th>\n",
       "      <td>accident</td>\n",
       "      <td>0</td>\n",
       "      <td>11</td>\n",
       "      <td>0</td>\n",
       "    </tr>\n",
       "    <tr>\n",
       "      <th>3</th>\n",
       "      <td>accident</td>\n",
       "      <td>1</td>\n",
       "      <td>24</td>\n",
       "      <td>24</td>\n",
       "    </tr>\n",
       "    <tr>\n",
       "      <th>4</th>\n",
       "      <td>aftershock</td>\n",
       "      <td>0</td>\n",
       "      <td>34</td>\n",
       "      <td>0</td>\n",
       "    </tr>\n",
       "    <tr>\n",
       "      <th>...</th>\n",
       "      <td>...</td>\n",
       "      <td>...</td>\n",
       "      <td>...</td>\n",
       "      <td>...</td>\n",
       "    </tr>\n",
       "    <tr>\n",
       "      <th>433</th>\n",
       "      <td>wreck</td>\n",
       "      <td>0</td>\n",
       "      <td>30</td>\n",
       "      <td>0</td>\n",
       "    </tr>\n",
       "    <tr>\n",
       "      <th>434</th>\n",
       "      <td>wreck</td>\n",
       "      <td>1</td>\n",
       "      <td>7</td>\n",
       "      <td>7</td>\n",
       "    </tr>\n",
       "    <tr>\n",
       "      <th>435</th>\n",
       "      <td>wreckage</td>\n",
       "      <td>1</td>\n",
       "      <td>39</td>\n",
       "      <td>39</td>\n",
       "    </tr>\n",
       "    <tr>\n",
       "      <th>436</th>\n",
       "      <td>wrecked</td>\n",
       "      <td>0</td>\n",
       "      <td>36</td>\n",
       "      <td>0</td>\n",
       "    </tr>\n",
       "    <tr>\n",
       "      <th>437</th>\n",
       "      <td>wrecked</td>\n",
       "      <td>1</td>\n",
       "      <td>3</td>\n",
       "      <td>3</td>\n",
       "    </tr>\n",
       "  </tbody>\n",
       "</table>\n",
       "<p>438 rows × 4 columns</p>\n",
       "</div>"
      ],
      "text/plain": [
       "        keyword  target  count  sum\n",
       "0        ablaze       0     23    0\n",
       "1        ablaze       1     13   13\n",
       "2      accident       0     11    0\n",
       "3      accident       1     24   24\n",
       "4    aftershock       0     34    0\n",
       "..          ...     ...    ...  ...\n",
       "433       wreck       0     30    0\n",
       "434       wreck       1      7    7\n",
       "435    wreckage       1     39   39\n",
       "436     wrecked       0     36    0\n",
       "437     wrecked       1      3    3\n",
       "\n",
       "[438 rows x 4 columns]"
      ]
     },
     "execution_count": 79,
     "metadata": {},
     "output_type": "execute_result"
    }
   ],
   "source": [
    "tmp#sort_values(by='sum', ascending=False).tail()"
   ]
  },
  {
   "cell_type": "code",
   "execution_count": 81,
   "metadata": {},
   "outputs": [
    {
     "data": {
      "text/html": [
       "\n",
       "<div id=\"altair-viz-662c5e7ec5ba4c628564725e565ab63e\"></div>\n",
       "<script type=\"text/javascript\">\n",
       "  var VEGA_DEBUG = (typeof VEGA_DEBUG == \"undefined\") ? {} : VEGA_DEBUG;\n",
       "  (function(spec, embedOpt){\n",
       "    let outputDiv = document.currentScript.previousElementSibling;\n",
       "    if (outputDiv.id !== \"altair-viz-662c5e7ec5ba4c628564725e565ab63e\") {\n",
       "      outputDiv = document.getElementById(\"altair-viz-662c5e7ec5ba4c628564725e565ab63e\");\n",
       "    }\n",
       "    const paths = {\n",
       "      \"vega\": \"https://cdn.jsdelivr.net/npm//vega@5?noext\",\n",
       "      \"vega-lib\": \"https://cdn.jsdelivr.net/npm//vega-lib?noext\",\n",
       "      \"vega-lite\": \"https://cdn.jsdelivr.net/npm//vega-lite@4.17.0?noext\",\n",
       "      \"vega-embed\": \"https://cdn.jsdelivr.net/npm//vega-embed@6?noext\",\n",
       "    };\n",
       "\n",
       "    function maybeLoadScript(lib, version) {\n",
       "      var key = `${lib.replace(\"-\", \"\")}_version`;\n",
       "      return (VEGA_DEBUG[key] == version) ?\n",
       "        Promise.resolve(paths[lib]) :\n",
       "        new Promise(function(resolve, reject) {\n",
       "          var s = document.createElement('script');\n",
       "          document.getElementsByTagName(\"head\")[0].appendChild(s);\n",
       "          s.async = true;\n",
       "          s.onload = () => {\n",
       "            VEGA_DEBUG[key] = version;\n",
       "            return resolve(paths[lib]);\n",
       "          };\n",
       "          s.onerror = () => reject(`Error loading script: ${paths[lib]}`);\n",
       "          s.src = paths[lib];\n",
       "        });\n",
       "    }\n",
       "\n",
       "    function showError(err) {\n",
       "      outputDiv.innerHTML = `<div class=\"error\" style=\"color:red;\">${err}</div>`;\n",
       "      throw err;\n",
       "    }\n",
       "\n",
       "    function displayChart(vegaEmbed) {\n",
       "      vegaEmbed(outputDiv, spec, embedOpt)\n",
       "        .catch(err => showError(`Javascript Error: ${err.message}<br>This usually means there's a typo in your chart specification. See the javascript console for the full traceback.`));\n",
       "    }\n",
       "\n",
       "    if(typeof define === \"function\" && define.amd) {\n",
       "      requirejs.config({paths});\n",
       "      require([\"vega-embed\"], displayChart, err => showError(`Error loading script: ${err.message}`));\n",
       "    } else {\n",
       "      maybeLoadScript(\"vega\", \"5\")\n",
       "        .then(() => maybeLoadScript(\"vega-lite\", \"4.17.0\"))\n",
       "        .then(() => maybeLoadScript(\"vega-embed\", \"6\"))\n",
       "        .catch(showError)\n",
       "        .then(() => displayChart(vegaEmbed));\n",
       "    }\n",
       "  })({\"config\": {\"view\": {\"continuousWidth\": 400, \"continuousHeight\": 300}}, \"data\": {\"name\": \"data-ebe7428d9c28e4761717ca510f60febe\"}, \"mark\": \"bar\", \"encoding\": {\"color\": {\"field\": \"target\", \"type\": \"ordinal\"}, \"x\": {\"field\": \"count\", \"type\": \"quantitative\"}, \"y\": {\"field\": \"keyword\", \"sort\": {\"field\": \"sum\", \"order\": \"descending\"}, \"type\": \"ordinal\"}}, \"$schema\": \"https://vega.github.io/schema/vega-lite/v4.17.0.json\", \"datasets\": {\"data-ebe7428d9c28e4761717ca510f60febe\": [{\"keyword\": \"oil%20spill\", \"target\": 0, \"count\": 1, \"sum\": 0}, {\"keyword\": \"outbreak\", \"target\": 0, \"count\": 1, \"sum\": 0}, {\"keyword\": \"suicide%20bomber\", \"target\": 0, \"count\": 1, \"sum\": 0}, {\"keyword\": \"suicide%20bombing\", \"target\": 0, \"count\": 1, \"sum\": 0}, {\"keyword\": \"typhoon\", \"target\": 0, \"count\": 1, \"sum\": 0}, {\"keyword\": \"blazing\", \"target\": 1, \"count\": 1, \"sum\": 1}, {\"keyword\": \"body%20bag\", \"target\": 1, \"count\": 1, \"sum\": 1}, {\"keyword\": \"body%20bags\", \"target\": 1, \"count\": 1, \"sum\": 1}, {\"keyword\": \"electrocute\", \"target\": 1, \"count\": 1, \"sum\": 1}, {\"keyword\": \"epicentre\", \"target\": 1, \"count\": 1, \"sum\": 1}, {\"keyword\": \"ruin\", \"target\": 1, \"count\": 1, \"sum\": 1}, {\"keyword\": \"bombing\", \"target\": 0, \"count\": 2, \"sum\": 0}, {\"keyword\": \"blew%20up\", \"target\": 1, \"count\": 2, \"sum\": 2}, {\"keyword\": \"blight\", \"target\": 1, \"count\": 2, \"sum\": 2}, {\"keyword\": \"inundation\", \"target\": 1, \"count\": 2, \"sum\": 2}, {\"keyword\": \"panicking\", \"target\": 1, \"count\": 2, \"sum\": 2}, {\"keyword\": \"screaming\", \"target\": 1, \"count\": 2, \"sum\": 2}, {\"keyword\": \"threat\", \"target\": 1, \"count\": 2, \"sum\": 2}, {\"keyword\": \"traumatised\", \"target\": 1, \"count\": 2, \"sum\": 2}, {\"keyword\": \"nuclear%20disaster\", \"target\": 0, \"count\": 3, \"sum\": 0}, {\"keyword\": \"rescuers\", \"target\": 0, \"count\": 3, \"sum\": 0}, {\"keyword\": \"suicide%20bomb\", \"target\": 0, \"count\": 3, \"sum\": 0}, {\"keyword\": \"bloody\", \"target\": 1, \"count\": 3, \"sum\": 3}, {\"keyword\": \"collide\", \"target\": 1, \"count\": 3, \"sum\": 3}, {\"keyword\": \"drown\", \"target\": 1, \"count\": 3, \"sum\": 3}, {\"keyword\": \"explode\", \"target\": 1, \"count\": 3, \"sum\": 3}, {\"keyword\": \"mayhem\", \"target\": 1, \"count\": 3, \"sum\": 3}, {\"keyword\": \"panic\", \"target\": 1, \"count\": 3, \"sum\": 3}, {\"keyword\": \"smoke\", \"target\": 1, \"count\": 3, \"sum\": 3}, {\"keyword\": \"stretcher\", \"target\": 1, \"count\": 3, \"sum\": 3}, {\"keyword\": \"wrecked\", \"target\": 1, \"count\": 3, \"sum\": 3}, {\"keyword\": \"evacuated\", \"target\": 0, \"count\": 4, \"sum\": 0}, {\"keyword\": \"forest%20fire\", \"target\": 0, \"count\": 4, \"sum\": 0}, {\"keyword\": \"radiation%20emergency\", \"target\": 0, \"count\": 4, \"sum\": 0}, {\"keyword\": \"razed\", \"target\": 0, \"count\": 4, \"sum\": 0}, {\"keyword\": \"wild%20fires\", \"target\": 0, \"count\": 4, \"sum\": 0}, {\"keyword\": \"wildfire\", \"target\": 0, \"count\": 4, \"sum\": 0}, {\"keyword\": \"avalanche\", \"target\": 1, \"count\": 4, \"sum\": 4}, {\"keyword\": \"blizzard\", \"target\": 1, \"count\": 4, \"sum\": 4}, {\"keyword\": \"crush\", \"target\": 1, \"count\": 4, \"sum\": 4}, {\"keyword\": \"crushed\", \"target\": 1, \"count\": 4, \"sum\": 4}, {\"keyword\": \"harm\", \"target\": 1, \"count\": 4, \"sum\": 4}, {\"keyword\": \"obliterate\", \"target\": 1, \"count\": 4, \"sum\": 4}, {\"keyword\": \"obliterated\", \"target\": 1, \"count\": 4, \"sum\": 4}, {\"keyword\": \"obliteration\", \"target\": 1, \"count\": 4, \"sum\": 4}, {\"keyword\": \"screamed\", \"target\": 1, \"count\": 4, \"sum\": 4}, {\"keyword\": \"airplane%20accident\", \"target\": 0, \"count\": 5, \"sum\": 0}, {\"keyword\": \"buildings%20on%20fire\", \"target\": 0, \"count\": 5, \"sum\": 0}, {\"keyword\": \"forest%20fires\", \"target\": 0, \"count\": 5, \"sum\": 0}, {\"keyword\": \"mass%20murder\", \"target\": 0, \"count\": 5, \"sum\": 0}]}}, {\"mode\": \"vega-lite\"});\n",
       "</script>"
      ],
      "text/plain": [
       "alt.Chart(...)"
      ]
     },
     "execution_count": 81,
     "metadata": {},
     "output_type": "execute_result"
    }
   ],
   "source": [
    "tmp = df_train.copy()\n",
    "tmp['target_1'] = tmp['target'] == 1\n",
    "tmp = tmp.groupby(['keyword', 'target'])['target_1'].agg(['count', 'sum']).reset_index()\n",
    "Chart(tmp.sort_values(by=['count', 'sum']).head(50)).mark_bar().encode(\n",
    "    alt.X('count'),\n",
    "    alt.Y('keyword:O', sort=alt.SortField('sum', order='descending')),\n",
    "    color='target:O'\n",
    ")"
   ]
  },
  {
   "cell_type": "code",
   "execution_count": 29,
   "metadata": {},
   "outputs": [
    {
     "data": {
      "text/plain": [
       "array([nan, 'ablaze', 'accident', 'aftershock', 'airplane%20accident',\n",
       "       'ambulance', 'annihilated', 'annihilation', 'apocalypse',\n",
       "       'armageddon', 'army', 'arson', 'arsonist', 'attack', 'attacked',\n",
       "       'avalanche', 'battle', 'bioterror', 'bioterrorism', 'blaze',\n",
       "       'blazing', 'bleeding', 'blew%20up', 'blight', 'blizzard', 'blood',\n",
       "       'bloody', 'blown%20up', 'body%20bag', 'body%20bagging',\n",
       "       'body%20bags', 'bomb', 'bombed', 'bombing', 'bridge%20collapse',\n",
       "       'buildings%20burning', 'buildings%20on%20fire', 'burned',\n",
       "       'burning', 'burning%20buildings', 'bush%20fires', 'casualties',\n",
       "       'casualty', 'catastrophe', 'catastrophic', 'chemical%20emergency',\n",
       "       'cliff%20fall', 'collapse', 'collapsed', 'collide', 'collided',\n",
       "       'collision', 'crash', 'crashed', 'crush', 'crushed', 'curfew',\n",
       "       'cyclone', 'damage', 'danger', 'dead', 'death', 'deaths', 'debris',\n",
       "       'deluge', 'deluged', 'demolish', 'demolished', 'demolition',\n",
       "       'derail', 'derailed', 'derailment', 'desolate', 'desolation',\n",
       "       'destroy', 'destroyed', 'destruction', 'detonate', 'detonation',\n",
       "       'devastated', 'devastation', 'disaster', 'displaced', 'drought',\n",
       "       'drown', 'drowned', 'drowning', 'dust%20storm', 'earthquake',\n",
       "       'electrocute', 'electrocuted', 'emergency', 'emergency%20plan',\n",
       "       'emergency%20services', 'engulfed', 'epicentre', 'evacuate',\n",
       "       'evacuated', 'evacuation', 'explode', 'exploded', 'explosion',\n",
       "       'eyewitness', 'famine', 'fatal', 'fatalities', 'fatality', 'fear',\n",
       "       'fire', 'fire%20truck', 'first%20responders', 'flames',\n",
       "       'flattened', 'flood', 'flooding', 'floods', 'forest%20fire',\n",
       "       'forest%20fires', 'hail', 'hailstorm', 'harm', 'hazard',\n",
       "       'hazardous', 'heat%20wave', 'hellfire', 'hijack', 'hijacker',\n",
       "       'hijacking', 'hostage', 'hostages', 'hurricane', 'injured',\n",
       "       'injuries', 'injury', 'inundated', 'inundation', 'landslide',\n",
       "       'lava', 'lightning', 'loud%20bang', 'mass%20murder',\n",
       "       'mass%20murderer', 'massacre', 'mayhem', 'meltdown', 'military',\n",
       "       'mudslide', 'natural%20disaster', 'nuclear%20disaster',\n",
       "       'nuclear%20reactor', 'obliterate', 'obliterated', 'obliteration',\n",
       "       'oil%20spill', 'outbreak', 'pandemonium', 'panic', 'panicking',\n",
       "       'police', 'quarantine', 'quarantined', 'radiation%20emergency',\n",
       "       'rainstorm', 'razed', 'refugees', 'rescue', 'rescued', 'rescuers',\n",
       "       'riot', 'rioting', 'rubble', 'ruin', 'sandstorm', 'screamed',\n",
       "       'screaming', 'screams', 'seismic', 'sinkhole', 'sinking', 'siren',\n",
       "       'sirens', 'smoke', 'snowstorm', 'storm', 'stretcher',\n",
       "       'structural%20failure', 'suicide%20bomb', 'suicide%20bomber',\n",
       "       'suicide%20bombing', 'sunk', 'survive', 'survived', 'survivors',\n",
       "       'terrorism', 'terrorist', 'threat', 'thunder', 'thunderstorm',\n",
       "       'tornado', 'tragedy', 'trapped', 'trauma', 'traumatised',\n",
       "       'trouble', 'tsunami', 'twister', 'typhoon', 'upheaval',\n",
       "       'violent%20storm', 'volcano', 'war%20zone', 'weapon', 'weapons',\n",
       "       'whirlwind', 'wild%20fires', 'wildfire', 'windstorm', 'wounded',\n",
       "       'wounds', 'wreck', 'wreckage', 'wrecked'], dtype=object)"
      ]
     },
     "execution_count": 29,
     "metadata": {},
     "output_type": "execute_result"
    }
   ],
   "source": [
    "for df in [df_train, df_test]:\n",
    "    df.groupby(keybord)"
   ]
  },
  {
   "cell_type": "code",
   "execution_count": null,
   "metadata": {},
   "outputs": [],
   "source": []
  }
 ],
 "metadata": {
  "interpreter": {
   "hash": "3f754e0f2c035ece9b0a4f998d8077dc946278dc35515802da1198acd4f82ede"
  },
  "kernelspec": {
   "display_name": "Python 3.9.7 ('base')",
   "language": "python",
   "name": "python3"
  },
  "language_info": {
   "codemirror_mode": {
    "name": "ipython",
    "version": 3
   },
   "file_extension": ".py",
   "mimetype": "text/x-python",
   "name": "python",
   "nbconvert_exporter": "python",
   "pygments_lexer": "ipython3",
   "version": "3.9.7"
  },
  "orig_nbformat": 4
 },
 "nbformat": 4,
 "nbformat_minor": 2
}
